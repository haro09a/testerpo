{
 "cells": [
  {
   "cell_type": "markdown",
   "metadata": {},
   "source": [
    "<center>\n",
    "    <img src=\"https://cf-courses-data.s3.us.cloud-object-storage.appdomain.cloud/IBMDeveloperSkillsNetwork-DS0105EN-SkillsNetwork/labs/Module2/images/SN_web_lightmode.png\" width=\"300\" alt=\"cognitiveclass.ai logo\">\n",
    "</center>\n"
   ]
  },
  {
   "cell_type": "markdown",
   "metadata": {},
   "source": [
    "# assingment"
   ]
  },
  {
   "cell_type": "markdown",
   "metadata": {},
   "source": [
    "welcome to the assingment this goes thorugh varity of jupyter instructions"
   ]
  },
  {
   "cell_type": "markdown",
   "metadata": {},
   "source": [
    "Here is a numbered list of items:\n",
    "1. python \n",
    "2. r \n",
    "3. sql \n"
   ]
  },
  {
   "cell_type": "markdown",
   "metadata": {},
   "source": [
    "Here is a numbered list of items:\n",
    "1. numpy\n",
    "2. pandas\n",
    "3. matplotlib\n"
   ]
  },
  {
   "cell_type": "markdown",
   "metadata": {},
   "source": [
    "# Data Science Tools\n",
    "\n",
    "| Tool | Description |\n",
    "| --- | --- |\n",
    "| Python | A popular high-level programming language used for data science and machine learning, known for its readability and ease of use |\n",
    "| R | A programming language and environment designed specifically for data analysis and statistics |\n",
    "| SQL | A language used to manage and manipulate relational databases, commonly used in data science |\n",
    "| Tableau | A data visualization tool used to create interactive dashboards, reports, and charts |\n",
    "| Apache Spark | A distributed computing system used for large-scale data processing and analytics |\n",
    "| Hadoop | An open-source software framework used for distributed storage and processing of large datasets |\n",
    "| MATLAB | A programming language and development environment used for numerical computing and data analysis |\n",
    "| SAS | A software suite used for advanced analytics, business intelligence, and data management |\n",
    "\n",
    "\n"
   ]
  },
  {
   "cell_type": "markdown",
   "metadata": {},
   "source": [
    "arithamatic exp <br>\n",
    "1+1 add<br>\n",
    "1-1 sub<br>\n",
    "1*1 mul<br>\n",
    "1/1 div"
   ]
  },
  {
   "cell_type": "code",
   "execution_count": 1,
   "metadata": {},
   "outputs": [
    {
     "name": "stdout",
     "output_type": "stream",
     "text": [
      "8\n",
      "15\n"
     ]
    }
   ],
   "source": [
    "a=5\n",
    "b=3\n",
    "c=a+b\n",
    "print(c)\n",
    "d=a*b\n",
    "print(d)"
   ]
  },
  {
   "cell_type": "code",
   "execution_count": 2,
   "metadata": {},
   "outputs": [
    {
     "name": "stdout",
     "output_type": "stream",
     "text": [
      "hr is  1.5\n"
     ]
    }
   ],
   "source": [
    "min=90\n",
    "hr=min/60\n",
    "print(\"hr is \",hr)"
   ]
  },
  {
   "cell_type": "markdown",
   "metadata": {},
   "source": [
    "# Objectives\n",
    "\n",
    "\n",
    "\n",
    "- To explore a dataset and gain insights into the data\n",
    "- To preprocess and clean the data for use in machine learning models\n",
    "- To build and train a machine learning model to predict a target variable\n",
    "- To evaluate the performance of the machine learning model and select the best model\n",
    "- To interpret the results of the machine learning model and draw conclusions from the data\n",
    "- To communicate the findings and insights from the project in a clear and concise manner\n",
    "\n"
   ]
  },
  {
   "cell_type": "markdown",
   "metadata": {},
   "source": [
    "## the author is haro "
   ]
  },
  {
   "cell_type": "code",
   "execution_count": null,
   "metadata": {},
   "outputs": [],
   "source": []
  }
 ],
 "metadata": {
  "kernelspec": {
   "display_name": "Python",
   "language": "python",
   "name": "conda-env-python-py"
  },
  "language_info": {
   "codemirror_mode": {
    "name": "ipython",
    "version": 3
   },
   "file_extension": ".py",
   "mimetype": "text/x-python",
   "name": "python",
   "nbconvert_exporter": "python",
   "pygments_lexer": "ipython3",
   "version": "3.7.12"
  }
 },
 "nbformat": 4,
 "nbformat_minor": 4
}
